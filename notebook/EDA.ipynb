{
 "cells": [
  {
   "cell_type": "code",
   "execution_count": null,
   "metadata": {},
   "outputs": [],
   "source": [
    "import pandas as pd\n",
    "import numpy as np\n",
    "import matplotlib.pyplot as plt\n",
    "import seaborn as sns"
   ]
  },
  {
   "cell_type": "code",
   "execution_count": null,
   "metadata": {},
   "outputs": [],
   "source": [
    "df = pd.read_csv(r\"C:\\Users\\Tanish\\Downloads\\Insurance-Premium-Prediction-main\\Insurance-Premium-Prediction-main\\premium\\artifact\\data_ingestion\\2023-03-18-12-11-01\\raw_data\\insurance\")\n",
    "df"
   ]
  },
  {
   "cell_type": "code",
   "execution_count": null,
   "metadata": {},
   "outputs": [],
   "source": [
    "df[\"cat_age\"] = pd.cut(\n",
    "                df[\"age\"],\n",
    "                bins=[0.0, 20.0, 30.0, 40.0, 50.0, np.inf],\n",
    "                labels=[1,2,3,4,5]\n",
    "            )"
   ]
  },
  {
   "cell_type": "code",
   "execution_count": null,
   "metadata": {},
   "outputs": [],
   "source": [
    "df[\"cat_age\"]"
   ]
  },
  {
   "cell_type": "code",
   "execution_count": null,
   "metadata": {},
   "outputs": [],
   "source": [
    "df[\"cat_age\"].unique()"
   ]
  },
  {
   "cell_type": "code",
   "execution_count": null,
   "metadata": {},
   "outputs": [],
   "source": [
    "df[\"age\"].plot(kind=\"hist\")\n"
   ]
  },
  {
   "cell_type": "code",
   "execution_count": null,
   "metadata": {},
   "outputs": [],
   "source": [
    "plt.pie(df.cat_age.value_counts(), labels = df.cat_age.value_counts().index)\n",
    "plt.show()"
   ]
  },
  {
   "cell_type": "code",
   "execution_count": null,
   "metadata": {},
   "outputs": [],
   "source": [
    "df['children'].unique()"
   ]
  },
  {
   "cell_type": "code",
   "execution_count": null,
   "metadata": {},
   "outputs": [],
   "source": [
    "df.describe()"
   ]
  },
  {
   "cell_type": "code",
   "execution_count": null,
   "metadata": {},
   "outputs": [],
   "source": [
    "df.dtypes"
   ]
  },
  {
   "cell_type": "code",
   "execution_count": null,
   "metadata": {},
   "outputs": [],
   "source": [
    "df['expenses'] = df['expenses'].astype('float64')\n",
    "df['expenses']"
   ]
  },
  {
   "cell_type": "code",
   "execution_count": null,
   "metadata": {},
   "outputs": [],
   "source": [
    "df.dtypes"
   ]
  },
  {
   "cell_type": "code",
   "execution_count": null,
   "metadata": {},
   "outputs": [],
   "source": [
    "df['sex'].unique()"
   ]
  },
  {
   "cell_type": "code",
   "execution_count": null,
   "metadata": {},
   "outputs": [],
   "source": [
    "df['smoker'].unique()"
   ]
  },
  {
   "cell_type": "code",
   "execution_count": null,
   "metadata": {},
   "outputs": [],
   "source": [
    "df['region'].unique()"
   ]
  },
  {
   "cell_type": "code",
   "execution_count": null,
   "metadata": {},
   "outputs": [],
   "source": [
    "df.isnull().sum()"
   ]
  },
  {
   "cell_type": "code",
   "execution_count": null,
   "metadata": {},
   "outputs": [],
   "source": [
    "corr = df.corr()\n",
    "corr"
   ]
  },
  {
   "cell_type": "code",
   "execution_count": null,
   "metadata": {},
   "outputs": [],
   "source": [
    "plt.figure(figsize=(8,6))\n",
    "sns.heatmap(corr, annot = True)"
   ]
  },
  {
   "cell_type": "code",
   "execution_count": null,
   "metadata": {},
   "outputs": [],
   "source": [
    "fig, axes = plt.subplots(ncols = 3, figsize = (15,6), squeeze=True)\n",
    "plt.subplots_adjust(left=None, bottom=None, right=None, top=None, wspace=0.4, hspace=None)\n",
    "df.plot(kind='scatter', x='age', y='expenses', ax=axes[0])\n",
    "df.plot(kind='scatter', x='children', y='expenses', ax=axes[1])\n",
    "df.plot(kind='scatter', x='bmi', y='expenses', ax=axes[2])"
   ]
  },
  {
   "cell_type": "code",
   "execution_count": null,
   "metadata": {},
   "outputs": [],
   "source": [
    "fig, axes = plt.subplots(nrows = 2, ncols = 2, figsize = (15,10))\n",
    "\n",
    "df.plot(kind='hist', y='age', ax=axes[0][0], color = 'blue')\n",
    "df.plot(kind='hist', y='bmi', ax=axes[0][1], color = 'orange', bins = 54)\n",
    "df.plot(kind='hist', y='children', ax=axes[1][0], color = 'red', bins = 6)\n",
    "df.plot(kind='hist', y='expenses', ax=axes[1][1], color = 'green', bins = 80)"
   ]
  },
  {
   "cell_type": "code",
   "execution_count": null,
   "metadata": {},
   "outputs": [],
   "source": [
    "palette=['#EB5050','#3EA2FF']\n",
    "fig, axes = plt.subplots(ncols = 3, figsize = (15,6), squeeze=True)\n",
    "sns.scatterplot(x='bmi', y='expenses', ax=axes[0], data=df,hue='sex', palette=palette)\n",
    "sns.scatterplot(x='bmi', y='expenses', ax=axes[1], data=df,hue='smoker', palette=palette)\n",
    "sns.scatterplot(x='bmi', y='expenses', ax=axes[2], data=df,hue='region')"
   ]
  },
  {
   "cell_type": "code",
   "execution_count": null,
   "metadata": {},
   "outputs": [],
   "source": [
    "\n",
    "fig, axes = plt.subplots(ncols=3, figsize = (15,6))\n",
    "df['sex'].value_counts().plot(kind='bar', color = 'orange', ax=axes[0],title=\"Sex\", legend = 'sex') \n",
    "df['region'].value_counts().plot(kind='bar', color = 'green', ax=axes[1],title=\"Region\", legend = 'region')\n",
    "df['smoker'].value_counts().plot(kind='bar', ax=axes[2],title=\"Smoker\", legend = 'smoker')\n"
   ]
  },
  {
   "cell_type": "code",
   "execution_count": null,
   "metadata": {},
   "outputs": [],
   "source": [
    "palette=['#EB5050','#3EA2FF']\n",
    "sns.catplot(x='sex', y='expenses', kind='violin', palette=palette, data=df)"
   ]
  },
  {
   "cell_type": "code",
   "execution_count": null,
   "metadata": {},
   "outputs": [],
   "source": [
    "palette=['#EB5050','#2DFFAB'] \n",
    "sns.catplot(x='sex', y='expenses', kind='violin', hue='smoker', palette=palette, data=df)"
   ]
  },
  {
   "cell_type": "code",
   "execution_count": null,
   "metadata": {},
   "outputs": [],
   "source": [
    "from scipy import stats\n",
    "from scipy.stats import norm\n",
    "fig =plt.figure(figsize=(18,6))\n",
    "plt.subplot(1,2,1)\n",
    "sns.distplot(df['expenses'], fit=norm)\n",
    "(mu,sigma)= norm.fit(df['expenses'])\n",
    "plt.legend(['For Normal dist. mean: {:.2f} | std: {:.2f}'.format(mu,sigma)])\n",
    "plt.ylabel('Frequency')\n",
    "plt.title('Distribution of Charges')"
   ]
  },
  {
   "cell_type": "code",
   "execution_count": null,
   "metadata": {},
   "outputs": [],
   "source": []
  }
 ],
 "metadata": {
  "kernelspec": {
   "display_name": "Python 3.7.0 (conda)",
   "language": "python",
   "name": "python3"
  },
  "language_info": {
   "codemirror_mode": {
    "name": "ipython",
    "version": 3
   },
   "file_extension": ".py",
   "mimetype": "text/x-python",
   "name": "python",
   "nbconvert_exporter": "python",
   "pygments_lexer": "ipython3",
   "version": "3.7.0"
  },
  "orig_nbformat": 4,
  "vscode": {
   "interpreter": {
    "hash": "679af03a05147b13862a50b4c7f8c83ea2d9d219da338a19e0cab5167909dd7c"
   }
  }
 },
 "nbformat": 4,
 "nbformat_minor": 2
}
